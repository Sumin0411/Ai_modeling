{
  "nbformat": 4,
  "nbformat_minor": 0,
  "metadata": {
    "colab": {
      "provenance": [],
      "authorship_tag": "ABX9TyNX3fR/5uhhifRL1EoPWfC/"
    },
    "kernelspec": {
      "name": "python3",
      "display_name": "Python 3"
    },
    "language_info": {
      "name": "python"
    }
  },
  "cells": [
    {
      "cell_type": "code",
      "execution_count": 5,
      "metadata": {
        "colab": {
          "base_uri": "https://localhost:8080/"
        },
        "id": "yfQa6Q1GksvA",
        "outputId": "23961cf4-1762-4319-c5a8-53c8d0a64c19"
      },
      "outputs": [
        {
          "output_type": "stream",
          "name": "stdout",
          "text": [
            "Requirement already satisfied: openai in /usr/local/lib/python3.10/dist-packages (1.10.0)\n",
            "Requirement already satisfied: anyio<5,>=3.5.0 in /usr/local/lib/python3.10/dist-packages (from openai) (3.7.1)\n",
            "Requirement already satisfied: distro<2,>=1.7.0 in /usr/lib/python3/dist-packages (from openai) (1.7.0)\n",
            "Requirement already satisfied: httpx<1,>=0.23.0 in /usr/local/lib/python3.10/dist-packages (from openai) (0.26.0)\n",
            "Requirement already satisfied: pydantic<3,>=1.9.0 in /usr/local/lib/python3.10/dist-packages (from openai) (1.10.14)\n",
            "Requirement already satisfied: sniffio in /usr/local/lib/python3.10/dist-packages (from openai) (1.3.0)\n",
            "Requirement already satisfied: tqdm>4 in /usr/local/lib/python3.10/dist-packages (from openai) (4.66.1)\n",
            "Requirement already satisfied: typing-extensions<5,>=4.7 in /usr/local/lib/python3.10/dist-packages (from openai) (4.9.0)\n",
            "Requirement already satisfied: idna>=2.8 in /usr/local/lib/python3.10/dist-packages (from anyio<5,>=3.5.0->openai) (3.6)\n",
            "Requirement already satisfied: exceptiongroup in /usr/local/lib/python3.10/dist-packages (from anyio<5,>=3.5.0->openai) (1.2.0)\n",
            "Requirement already satisfied: certifi in /usr/local/lib/python3.10/dist-packages (from httpx<1,>=0.23.0->openai) (2023.11.17)\n",
            "Requirement already satisfied: httpcore==1.* in /usr/local/lib/python3.10/dist-packages (from httpx<1,>=0.23.0->openai) (1.0.2)\n",
            "Requirement already satisfied: h11<0.15,>=0.13 in /usr/local/lib/python3.10/dist-packages (from httpcore==1.*->httpx<1,>=0.23.0->openai) (0.14.0)\n",
            "Requirement already satisfied: langchain in /usr/local/lib/python3.10/dist-packages (0.1.4)\n",
            "Requirement already satisfied: PyYAML>=5.3 in /usr/local/lib/python3.10/dist-packages (from langchain) (6.0.1)\n",
            "Requirement already satisfied: SQLAlchemy<3,>=1.4 in /usr/local/lib/python3.10/dist-packages (from langchain) (2.0.24)\n",
            "Requirement already satisfied: aiohttp<4.0.0,>=3.8.3 in /usr/local/lib/python3.10/dist-packages (from langchain) (3.9.1)\n",
            "Requirement already satisfied: async-timeout<5.0.0,>=4.0.0 in /usr/local/lib/python3.10/dist-packages (from langchain) (4.0.3)\n",
            "Requirement already satisfied: dataclasses-json<0.7,>=0.5.7 in /usr/local/lib/python3.10/dist-packages (from langchain) (0.6.3)\n",
            "Requirement already satisfied: jsonpatch<2.0,>=1.33 in /usr/local/lib/python3.10/dist-packages (from langchain) (1.33)\n",
            "Requirement already satisfied: langchain-community<0.1,>=0.0.14 in /usr/local/lib/python3.10/dist-packages (from langchain) (0.0.16)\n",
            "Requirement already satisfied: langchain-core<0.2,>=0.1.16 in /usr/local/lib/python3.10/dist-packages (from langchain) (0.1.17)\n",
            "Requirement already satisfied: langsmith<0.1,>=0.0.83 in /usr/local/lib/python3.10/dist-packages (from langchain) (0.0.85)\n",
            "Requirement already satisfied: numpy<2,>=1 in /usr/local/lib/python3.10/dist-packages (from langchain) (1.23.5)\n",
            "Requirement already satisfied: pydantic<3,>=1 in /usr/local/lib/python3.10/dist-packages (from langchain) (1.10.14)\n",
            "Requirement already satisfied: requests<3,>=2 in /usr/local/lib/python3.10/dist-packages (from langchain) (2.31.0)\n",
            "Requirement already satisfied: tenacity<9.0.0,>=8.1.0 in /usr/local/lib/python3.10/dist-packages (from langchain) (8.2.3)\n",
            "Requirement already satisfied: attrs>=17.3.0 in /usr/local/lib/python3.10/dist-packages (from aiohttp<4.0.0,>=3.8.3->langchain) (23.2.0)\n",
            "Requirement already satisfied: multidict<7.0,>=4.5 in /usr/local/lib/python3.10/dist-packages (from aiohttp<4.0.0,>=3.8.3->langchain) (6.0.4)\n",
            "Requirement already satisfied: yarl<2.0,>=1.0 in /usr/local/lib/python3.10/dist-packages (from aiohttp<4.0.0,>=3.8.3->langchain) (1.9.4)\n",
            "Requirement already satisfied: frozenlist>=1.1.1 in /usr/local/lib/python3.10/dist-packages (from aiohttp<4.0.0,>=3.8.3->langchain) (1.4.1)\n",
            "Requirement already satisfied: aiosignal>=1.1.2 in /usr/local/lib/python3.10/dist-packages (from aiohttp<4.0.0,>=3.8.3->langchain) (1.3.1)\n",
            "Requirement already satisfied: marshmallow<4.0.0,>=3.18.0 in /usr/local/lib/python3.10/dist-packages (from dataclasses-json<0.7,>=0.5.7->langchain) (3.20.2)\n",
            "Requirement already satisfied: typing-inspect<1,>=0.4.0 in /usr/local/lib/python3.10/dist-packages (from dataclasses-json<0.7,>=0.5.7->langchain) (0.9.0)\n",
            "Requirement already satisfied: jsonpointer>=1.9 in /usr/local/lib/python3.10/dist-packages (from jsonpatch<2.0,>=1.33->langchain) (2.4)\n",
            "Requirement already satisfied: anyio<5,>=3 in /usr/local/lib/python3.10/dist-packages (from langchain-core<0.2,>=0.1.16->langchain) (3.7.1)\n",
            "Requirement already satisfied: packaging<24.0,>=23.2 in /usr/local/lib/python3.10/dist-packages (from langchain-core<0.2,>=0.1.16->langchain) (23.2)\n",
            "Requirement already satisfied: typing-extensions>=4.2.0 in /usr/local/lib/python3.10/dist-packages (from pydantic<3,>=1->langchain) (4.9.0)\n",
            "Requirement already satisfied: charset-normalizer<4,>=2 in /usr/local/lib/python3.10/dist-packages (from requests<3,>=2->langchain) (3.3.2)\n",
            "Requirement already satisfied: idna<4,>=2.5 in /usr/local/lib/python3.10/dist-packages (from requests<3,>=2->langchain) (3.6)\n",
            "Requirement already satisfied: urllib3<3,>=1.21.1 in /usr/local/lib/python3.10/dist-packages (from requests<3,>=2->langchain) (2.0.7)\n",
            "Requirement already satisfied: certifi>=2017.4.17 in /usr/local/lib/python3.10/dist-packages (from requests<3,>=2->langchain) (2023.11.17)\n",
            "Requirement already satisfied: greenlet!=0.4.17 in /usr/local/lib/python3.10/dist-packages (from SQLAlchemy<3,>=1.4->langchain) (3.0.3)\n",
            "Requirement already satisfied: sniffio>=1.1 in /usr/local/lib/python3.10/dist-packages (from anyio<5,>=3->langchain-core<0.2,>=0.1.16->langchain) (1.3.0)\n",
            "Requirement already satisfied: exceptiongroup in /usr/local/lib/python3.10/dist-packages (from anyio<5,>=3->langchain-core<0.2,>=0.1.16->langchain) (1.2.0)\n",
            "Requirement already satisfied: mypy-extensions>=0.3.0 in /usr/local/lib/python3.10/dist-packages (from typing-inspect<1,>=0.4.0->dataclasses-json<0.7,>=0.5.7->langchain) (1.0.0)\n"
          ]
        }
      ],
      "source": [
        "!pip install openai\n",
        "!pip install langchain"
      ]
    },
    {
      "cell_type": "code",
      "source": [
        "import os\n",
        "\n",
        "os.environ['OPENAI_API_KEY'] = '8c91c5c7058847f3820f9d7c12bbb1fb'\n",
        "os.environ['AZURE_OPENAI_ENDPOINT'] = 'https://sktfly-ai.openai.azure.com/'\n",
        "os.environ['OPENAI_API_TYPE'] = 'azure'\n",
        "os.environ['OPENAI_API_VERSION'] = '2023-05-15'"
      ],
      "metadata": {
        "id": "SZRvx0Dzl6uw"
      },
      "execution_count": 19,
      "outputs": []
    },
    {
      "cell_type": "code",
      "source": [
        "from langchain.llms import AzureOpenAI\n",
        "llm = AzureOpenAI(\n",
        "    deployment_name = 'dev-gpt-35-turbo-instruct'\n",
        ")\n",
        "\n",
        "llm.invoke('Why python is the most popular language?')"
      ],
      "metadata": {
        "colab": {
          "base_uri": "https://localhost:8080/",
          "height": 137
        },
        "id": "7nqixlrDl6sJ",
        "outputId": "9f0fc521-8f7d-47cb-cf42-691a85cc0ebe"
      },
      "execution_count": 20,
      "outputs": [
        {
          "output_type": "execute_result",
          "data": {
            "text/plain": [
              "'\\n\\n1. Versatility and Ease of Use: Python is a high-level programming language that is easy to learn and use. It has a simple syntax and is highly readable, making it suitable for both beginners and experienced programmers.\\n\\n2. Large and Active Community: Python has a large and active community of developers and users who contribute to its continuous development and improvement. This community provides support, resources, and a wide range of libraries and frameworks that make it easier to develop applications in Python.\\n\\n3. Multi-purpose Language: Python is a multi-purpose language that can be used for various applications such as web development, data analysis, scientific computing, artificial intelligence, machine learning, and more. This makes it a versatile language that can be applied to different industries and use cases.\\n\\n4. Extensive Libraries and Frameworks: Python has a rich set of libraries and frameworks that make it easier and faster to develop applications. These libraries and frameworks provide pre-written code for common tasks, allowing developers to focus on solving specific problems rather than writing code from scratch.\\n\\n5. Cross-platform Compatibility: Python is a cross-platform language, which means it can run on different operating systems such as Windows, Mac, and Linux. This makes it convenient for developers to work on different platforms without having to learn a new'"
            ],
            "application/vnd.google.colaboratory.intrinsic+json": {
              "type": "string"
            }
          },
          "metadata": {},
          "execution_count": 20
        }
      ]
    },
    {
      "cell_type": "code",
      "source": [
        "from langchain.chat_models import AzureChatOpenAI\n",
        "\n",
        "chatgpt = AzureChatOpenAI(deployment_name = 'dev-gpt-35-turbo',\n",
        "                      temperature = 1)\n",
        "answer = chatgpt.invoke('Why python is the most popular language? answer the Koeran')\n",
        "\n",
        "print(answer.content)"
      ],
      "metadata": {
        "colab": {
          "base_uri": "https://localhost:8080/"
        },
        "id": "cbKYCgl5l6ph",
        "outputId": "e5916f84-5e50-4a26-c4a7-d10e22c76310"
      },
      "execution_count": 29,
      "outputs": [
        {
          "output_type": "stream",
          "name": "stdout",
          "text": [
            "- 파이썬은 간결하고 읽기 쉬운 문법을 가지고 있어 쉽게 배우고 사용할 수 있습니다.\n",
            "- 다양한 분야에서 사용되며 데이터 분석, 인공지능, 웹 개발 등 여러 목적으로 활용됩니다.\n",
            "- 커뮤니티가 활발하여 다양한 라이브러리와 도구들이 개발되어 있습니다.\n",
            "- 큰 기업들이 파이썬을 사용하고 있어 채용 시장에서도 경쟁력이 높습니다.\n",
            "- 업데이트와 지원이 지속적으로 이루어지며 무료로 이용할 수 있다.\n"
          ]
        }
      ]
    },
    {
      "cell_type": "code",
      "source": [
        "from langchain.callbacks.streaming_stdout import StreamingStdOutCallbackHandler\n",
        "chatgpt = AzureChatOpenAI(\n",
        "    deployment_name = 'dev-gpt-35-turbo',\n",
        "    temperature = 1,\n",
        "    streaming = True,\n",
        "    callbacks = [StreamingStdOutCallbackHandler()]\n",
        ")\n",
        "answer = chatgpt.invoke('Why python is the most popular language? answer the Koeran')\n"
      ],
      "metadata": {
        "colab": {
          "base_uri": "https://localhost:8080/"
        },
        "id": "PUBxuunNl6m5",
        "outputId": "5635c730-7437-4d36-9cf8-404c3f4300d8"
      },
      "execution_count": 30,
      "outputs": [
        {
          "output_type": "stream",
          "name": "stdout",
          "text": [
            "파이썬은 다양한 분야에서 사용되며 문법이 간단하고 읽기 쉬워서 배우기 쉽습니다. 또한, 데이터 분석 및 인공지능 분야에서 널리 사용되는 등 유연하고 다양한 용도로 활용될 수 있습니다. 이러한 이유로 파이썬은 가장 인기 있는 프로그래밍 언어 중 하나입니다."
          ]
        }
      ]
    },
    {
      "cell_type": "code",
      "source": [
        "from langchain.schema import SystemMessage, AIMessage, HumanMessage\n",
        "\n",
        "chatgpt = AzureChatOpenAI(deployment_name = 'dev-gpt-35-turbo', temperature = 0 )\n",
        "messages = [\n",
        "    SystemMessage(content = 'You are a helpful assistent that translate English to Korean'),\n",
        "    HumanMessage(content = 'I love langchain')\n",
        "]\n",
        "answer = chatgpt(messages)\n",
        "print(answer.content)"
      ],
      "metadata": {
        "colab": {
          "base_uri": "https://localhost:8080/"
        },
        "id": "MJOEc2rol6jq",
        "outputId": "c265db9a-f270-4a6a-8e16-e7d3875a9e67"
      },
      "execution_count": 32,
      "outputs": [
        {
          "output_type": "stream",
          "name": "stdout",
          "text": [
            "I love langchain\n",
            "저는 랭체인을 좋아합니다\n"
          ]
        }
      ]
    },
    {
      "cell_type": "code",
      "source": [
        "messages = [\n",
        "    SystemMessage(content = '너는 공부 계획을 세워주는 스터디 플래너이다. 사용자의 공부 주제를 받으면 학습하기 위한 공부 계획을 세워준다.'),\n",
        "    HumanMessage(content = 'Large Language Model을 공부하고싶어요')\n",
        "\n",
        "]\n",
        "answer = chatgpt(messages)\n",
        "print(answer.content)"
      ],
      "metadata": {
        "colab": {
          "base_uri": "https://localhost:8080/"
        },
        "id": "tB6xjx3hCUNV",
        "outputId": "83382ba2-2060-4df0-9802-7c6b5051daf0"
      },
      "execution_count": 34,
      "outputs": [
        {
          "output_type": "stream",
          "name": "stdout",
          "text": [
            "좋아요, Large Language Model을 공부하기 위한 계획을 세워볼게요.\n",
            "\n",
            "1. 기본 개념 이해:\n",
            "   - Large Language Model의 개념과 원리에 대해 학습합니다. 언어 모델의 기본적인 작동 방식과 주요한 이론을 이해하는 것이 중요합니다.\n",
            "\n",
            "2. 관련 논문과 자료 조사:\n",
            "   - Large Language Model에 대한 최신 논문과 관련 자료를 조사하고 읽어보세요. 이를 통해 현재의 연구 동향과 새로운 기술적 발전에 대해 파악할 수 있습니다.\n",
            "\n",
            "3. 모델 구현 및 실험:\n",
            "   - Large Language Model을 구현해보고 실제로 실험해보는 것이 중요합니다. TensorFlow나 PyTorch와 같은 프레임워크를 사용하여 모델을 구현하고, 다양한 데이터셋을 활용하여 모델을 학습시켜보세요.\n",
            "\n",
            "4. 실제 응용 및 프로젝트:\n",
            "   - Large Language Model을 활용한 다양한 응용 분야와 프로젝트를 탐구해보세요. 예를 들어, 자연어 처리, 대화형 시스템, 문서 생성 등 다양한 분야에서 Large Language Model을 활용하는 방법을 연구해보세요.\n",
            "\n",
            "5. 커뮤니티 및 토론 참여:\n",
            "   - 관련된 온라인 커뮤니티나 토론 그룹에 참여하여 다른 사람들과 의견을 나누고 최신 동향을 파악하세요. 다른 사람들의 경험과 지식을 공유하고, 자신의 경험을 토대로 다른 이들에게 도움을 주는 것도 중요합니다.\n",
            "\n",
            "이러한 단계를 따라가면 Large Language Model에 대한 깊은 이해와 실제적인 활용 방안을 찾을 수 있을 것입니다. 학습에는 시간과 노력이 필요하니, 꾸준한 노력과 열정을 가지고 공부에 임해보세요!\n"
          ]
        }
      ]
    }
  ]
}